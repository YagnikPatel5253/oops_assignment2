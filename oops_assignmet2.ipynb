{
 "cells": [
  {
   "cell_type": "code",
   "execution_count": 6,
   "id": "655ae621-e25a-47c0-917a-b3933ef0891b",
   "metadata": {},
   "outputs": [
    {
     "name": "stdout",
     "output_type": "stream",
     "text": [
      "Driving a car\n",
      "Driving a truck\n"
     ]
    }
   ],
   "source": [
    "#Question 1\n",
    "#Abstraction simplifies complex things by focusing on the important parts and hiding the unnecessary details. \n",
    "#It allows us to work with general models or concepts without worrying about the specific inner workings.\n",
    "\n",
    "from abc import ABC, abstractmethod\n",
    "\n",
    "class Vehicle(ABC):\n",
    "    @abstractmethod\n",
    "    def drive(self):\n",
    "        pass\n",
    "\n",
    "class Car(Vehicle):\n",
    "    def drive(self):\n",
    "        print(\"Driving a car\")\n",
    "\n",
    "class Truck(Vehicle):\n",
    "    def drive(self):\n",
    "        print(\"Driving a truck\")\n",
    "\n",
    "car = Car()\n",
    "truck = Truck()\n",
    "\n",
    "car.drive()  \n",
    "truck.drive() \n"
   ]
  },
  {
   "cell_type": "code",
   "execution_count": 8,
   "id": "06e0f826-b631-463e-b5b3-35a1b055f303",
   "metadata": {},
   "outputs": [
    {
     "name": "stdout",
     "output_type": "stream",
     "text": [
      "Bhau Bhau\n",
      "Meow Meow\n"
     ]
    }
   ],
   "source": [
    "#Question 2\n",
    "#Incapsualation promotes the idea of data hiding and protecting the internal state of an object from direct access,\n",
    "#while Abstraction focuses on creating simplified models of real-world entities, emphasizing essential features while hiding unnecessary details.\n",
    "\n",
    "#Example of abstraction\n",
    "from abc import ABC, abstractmethod\n",
    "\n",
    "class Animal(ABC):\n",
    "    @abstractmethod\n",
    "    def making_sound(self):\n",
    "        pass\n",
    "    \n",
    "class Dog(Animal):\n",
    "    def making_sound(self):\n",
    "        print(\"Bhau Bhau\")\n",
    "\n",
    "class Cat(Animal):\n",
    "    def making_sound(self):\n",
    "        print(\"Meow Meow\")\n",
    "        \n",
    "dog = Dog()\n",
    "dog.making_sound()\n",
    "\n",
    "cat = Cat()\n",
    "cat.making_sound()"
   ]
  },
  {
   "cell_type": "code",
   "execution_count": 23,
   "id": "04c7dd69-9394-45f8-b9d7-47222607576a",
   "metadata": {},
   "outputs": [],
   "source": [
    "#Example of incapsulation\n",
    "\n",
    "class Car:\n",
    "    def __init__(self, make, model, year):\n",
    "        self.__make = make\n",
    "        self.__model = model\n",
    "        self.__year = year\n",
    "\n",
    "    def get_make(self):\n",
    "        return self.__make\n",
    "\n",
    "    def get_model(self):\n",
    "        return self.__model\n",
    "    \n",
    "    def get_year(self):\n",
    "        return self.__year\n",
    "\n",
    "    def set_make(self, make):\n",
    "        self.__make = make\n",
    "\n",
    "    def set_model(self, model):\n",
    "        self.__model = model\n",
    "        \n",
    "    def set_year(self, year):\n",
    "        self.__year = year\n",
    "\n",
    "car = Car(\"Audi\", \"Q3\", 2020)"
   ]
  },
  {
   "cell_type": "code",
   "execution_count": 24,
   "id": "f816aca8-347c-4caa-b4cc-04f5d79d5eba",
   "metadata": {},
   "outputs": [
    {
     "data": {
      "text/plain": [
       "'Audi'"
      ]
     },
     "execution_count": 24,
     "metadata": {},
     "output_type": "execute_result"
    }
   ],
   "source": [
    "car.get_make() "
   ]
  },
  {
   "cell_type": "code",
   "execution_count": 25,
   "id": "f641165e-6a42-42a7-a980-9f7a65658684",
   "metadata": {},
   "outputs": [
    {
     "data": {
      "text/plain": [
       "'Q3'"
      ]
     },
     "execution_count": 25,
     "metadata": {},
     "output_type": "execute_result"
    }
   ],
   "source": [
    "car.get_model()"
   ]
  },
  {
   "cell_type": "code",
   "execution_count": 26,
   "id": "0e734e96-8693-4306-8e02-c766aa030904",
   "metadata": {},
   "outputs": [
    {
     "data": {
      "text/plain": [
       "2020"
      ]
     },
     "execution_count": 26,
     "metadata": {},
     "output_type": "execute_result"
    }
   ],
   "source": [
    "car.get_year()"
   ]
  },
  {
   "cell_type": "code",
   "execution_count": 27,
   "id": "57979dfa-e1ce-43a6-9eee-cdbe1ac86c6e",
   "metadata": {},
   "outputs": [
    {
     "data": {
      "text/plain": [
       "'Honda'"
      ]
     },
     "execution_count": 27,
     "metadata": {},
     "output_type": "execute_result"
    }
   ],
   "source": [
    "car.set_make(\"Honda\")\n",
    "car.get_make()"
   ]
  },
  {
   "cell_type": "code",
   "execution_count": 29,
   "id": "5a57f534-9fc3-4ce2-a979-35582c965a1b",
   "metadata": {},
   "outputs": [
    {
     "data": {
      "text/plain": [
       "'xyz'"
      ]
     },
     "execution_count": 29,
     "metadata": {},
     "output_type": "execute_result"
    }
   ],
   "source": [
    "car.set_model(\"xyz\")\n",
    "car.get_model()"
   ]
  },
  {
   "cell_type": "code",
   "execution_count": 31,
   "id": "a5b216b9-fdaa-4d81-8e67-f881a2137136",
   "metadata": {},
   "outputs": [
    {
     "data": {
      "text/plain": [
       "2021"
      ]
     },
     "execution_count": 31,
     "metadata": {},
     "output_type": "execute_result"
    }
   ],
   "source": [
    "car.set_year(2021)\n",
    "car.get_year()"
   ]
  },
  {
   "cell_type": "code",
   "execution_count": 32,
   "id": "196511b0-898b-4604-a9b8-368b965cdc52",
   "metadata": {},
   "outputs": [],
   "source": [
    "#Question 3\n",
    "#The abc module in Python stands for \"Abstract Base Classes.\"\n",
    "#It provides infrastructure for creating abstract base classes (ABCs)\n",
    "#The abc module is used to define and enforce abstract classes and interfaces in Python."
   ]
  },
  {
   "cell_type": "code",
   "execution_count": 38,
   "id": "b349f233-c686-443a-aafe-4f8a1997ea82",
   "metadata": {},
   "outputs": [
    {
     "name": "stdout",
     "output_type": "stream",
     "text": [
      "0\n",
      "1000\n",
      "500\n"
     ]
    },
    {
     "data": {
      "text/plain": [
       "400"
      ]
     },
     "execution_count": 38,
     "metadata": {},
     "output_type": "execute_result"
    }
   ],
   "source": [
    "#Question 4\n",
    "#we can achieve data abstraction by using classes, access modifiers, and getter and setter methods\n",
    "#Example\n",
    "\n",
    "class BankAccount:\n",
    "    def __init__(self):\n",
    "        self._balance = 0  \n",
    "\n",
    "    def get_balance(self):\n",
    "        return self._balance\n",
    "\n",
    "    def deposit(self, amount):\n",
    "        if amount > 0:\n",
    "            self._balance += amount\n",
    "\n",
    "    def withdraw(self, amount):\n",
    "        if 0 < amount <= self._balance:\n",
    "            self._balance -= amount\n",
    "        else:\n",
    "            print(\"Insufficient balance.\")\n",
    "\n",
    "\n",
    "account = BankAccount()\n",
    "\n",
    "\n",
    "print(account.get_balance()) \n",
    "\n",
    "account.deposit(1000)\n",
    "print(account.get_balance()) \n",
    "\n",
    "account.withdraw(500)\n",
    "print(account.get_balance())  \n",
    "\n",
    "account.withdraw(100)\n",
    "\n",
    "account.get_balance()"
   ]
  },
  {
   "cell_type": "code",
   "execution_count": 39,
   "id": "27da4f34-6218-4897-8986-15b226aa1792",
   "metadata": {},
   "outputs": [
    {
     "ename": "TypeError",
     "evalue": "Can't instantiate abstract class AbstractClass with abstract method abstract_method",
     "output_type": "error",
     "traceback": [
      "\u001b[0;31m---------------------------------------------------------------------------\u001b[0m",
      "\u001b[0;31mTypeError\u001b[0m                                 Traceback (most recent call last)",
      "Cell \u001b[0;32mIn[39], line 12\u001b[0m\n\u001b[1;32m      8\u001b[0m     \u001b[38;5;129m@abstractmethod\u001b[39m\n\u001b[1;32m      9\u001b[0m     \u001b[38;5;28;01mdef\u001b[39;00m \u001b[38;5;21mabstract_method\u001b[39m(\u001b[38;5;28mself\u001b[39m):\n\u001b[1;32m     10\u001b[0m         \u001b[38;5;28;01mpass\u001b[39;00m\n\u001b[0;32m---> 12\u001b[0m obj \u001b[38;5;241m=\u001b[39m \u001b[43mAbstractClass\u001b[49m\u001b[43m(\u001b[49m\u001b[43m)\u001b[49m \n",
      "\u001b[0;31mTypeError\u001b[0m: Can't instantiate abstract class AbstractClass with abstract method abstract_method"
     ]
    }
   ],
   "source": [
    "#Question 5\n",
    "#No we can't create an instance of an abstract class.It will give us a typeerror.\n",
    "#Example\n",
    "\n",
    "from abc import ABC, abstractmethod\n",
    "\n",
    "class AbstractClass(ABC):\n",
    "    @abstractmethod\n",
    "    def abstract_method(self):\n",
    "        pass\n",
    "    \n",
    "obj = AbstractClass() "
   ]
  },
  {
   "cell_type": "code",
   "execution_count": null,
   "id": "894422e9-87e4-4106-b6d3-0713b4751945",
   "metadata": {},
   "outputs": [],
   "source": []
  }
 ],
 "metadata": {
  "kernelspec": {
   "display_name": "Python 3 (ipykernel)",
   "language": "python",
   "name": "python3"
  },
  "language_info": {
   "codemirror_mode": {
    "name": "ipython",
    "version": 3
   },
   "file_extension": ".py",
   "mimetype": "text/x-python",
   "name": "python",
   "nbconvert_exporter": "python",
   "pygments_lexer": "ipython3",
   "version": "3.10.8"
  }
 },
 "nbformat": 4,
 "nbformat_minor": 5
}
